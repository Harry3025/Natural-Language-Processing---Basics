{
 "cells": [
  {
   "cell_type": "code",
   "execution_count": 1,
   "id": "3c79041a",
   "metadata": {},
   "outputs": [],
   "source": [
    "# Import Required library\n",
    "\n",
    "from sklearn.feature_extraction.text import CountVectorizer"
   ]
  },
  {
   "cell_type": "code",
   "execution_count": 2,
   "id": "98c05e0f",
   "metadata": {},
   "outputs": [],
   "source": [
    "# instantiate the object\n",
    "\n",
    "vectorizer = CountVectorizer()"
   ]
  },
  {
   "cell_type": "code",
   "execution_count": 3,
   "id": "d1ee47a3",
   "metadata": {},
   "outputs": [],
   "source": [
    "# Create 3 documents\n",
    "\n",
    "document1 = 'Hi How are you'\n",
    "document2 = 'today is a very very very pleasant day and we can have some fun fun fun'\n",
    "document3 = 'This was an amazing experience'"
   ]
  },
  {
   "cell_type": "code",
   "execution_count": 4,
   "id": "f3b0bd12",
   "metadata": {},
   "outputs": [],
   "source": [
    "# Put them together\n",
    "\n",
    "list_of_docs = [document1,document2,document3]"
   ]
  },
  {
   "cell_type": "code",
   "execution_count": 5,
   "id": "acd2a8be",
   "metadata": {},
   "outputs": [],
   "source": [
    "# fit them as a bag of words\n",
    "\n",
    "bag_of_words = vectorizer.fit(list_of_docs)"
   ]
  },
  {
   "cell_type": "code",
   "execution_count": 6,
   "id": "e078aaf6",
   "metadata": {},
   "outputs": [
    {
     "data": {
      "text/plain": [
       "CountVectorizer()"
      ]
     },
     "execution_count": 6,
     "metadata": {},
     "output_type": "execute_result"
    }
   ],
   "source": [
    "# Check bag of words\n",
    "\n",
    "bag_of_words"
   ]
  },
  {
   "cell_type": "code",
   "execution_count": 7,
   "id": "1061097a",
   "metadata": {},
   "outputs": [],
   "source": [
    "# apply transform method\n",
    "\n",
    "bag_of_words = vectorizer.transform(list_of_docs)"
   ]
  },
  {
   "cell_type": "code",
   "execution_count": 8,
   "id": "15fe11a7",
   "metadata": {},
   "outputs": [
    {
     "name": "stdout",
     "output_type": "stream",
     "text": [
      "  (0, 3)\t1\n",
      "  (0, 9)\t1\n",
      "  (0, 10)\t1\n",
      "  (0, 19)\t1\n",
      "  (1, 2)\t1\n",
      "  (1, 4)\t1\n",
      "  (1, 5)\t1\n",
      "  (1, 7)\t3\n",
      "  (1, 8)\t1\n",
      "  (1, 11)\t1\n",
      "  (1, 12)\t1\n",
      "  (1, 13)\t1\n",
      "  (1, 15)\t1\n",
      "  (1, 16)\t3\n",
      "  (1, 18)\t1\n",
      "  (2, 0)\t1\n",
      "  (2, 1)\t1\n",
      "  (2, 6)\t1\n",
      "  (2, 14)\t1\n",
      "  (2, 17)\t1\n"
     ]
    }
   ],
   "source": [
    "# Print bag of words\n",
    "\n",
    "print(bag_of_words)"
   ]
  },
  {
   "cell_type": "code",
   "execution_count": 9,
   "id": "6f13feb2",
   "metadata": {},
   "outputs": [
    {
     "name": "stdout",
     "output_type": "stream",
     "text": [
      "16\n",
      "7\n"
     ]
    }
   ],
   "source": [
    "# verify the vocabulary for repeated word\n",
    "\n",
    "print(vectorizer.vocabulary_.get('very'))\n",
    "print(vectorizer.vocabulary_.get('fun'))"
   ]
  },
  {
   "cell_type": "code",
   "execution_count": 10,
   "id": "5e7b112f",
   "metadata": {},
   "outputs": [
    {
     "data": {
      "text/plain": [
       "scipy.sparse.csr.csr_matrix"
      ]
     },
     "execution_count": 10,
     "metadata": {},
     "output_type": "execute_result"
    }
   ],
   "source": [
    "type(bag_of_words)"
   ]
  }
 ],
 "metadata": {
  "kernelspec": {
   "display_name": "Python 3",
   "language": "python",
   "name": "python3"
  },
  "language_info": {
   "codemirror_mode": {
    "name": "ipython",
    "version": 3
   },
   "file_extension": ".py",
   "mimetype": "text/x-python",
   "name": "python",
   "nbconvert_exporter": "python",
   "pygments_lexer": "ipython3",
   "version": "3.8.8"
  }
 },
 "nbformat": 4,
 "nbformat_minor": 5
}
